{
 "cells": [
  {
   "cell_type": "markdown",
   "metadata": {},
   "source": [
    "# FIFA18 Multiple Regression"
   ]
  },
  {
   "cell_type": "code",
   "execution_count": 45,
   "metadata": {},
   "outputs": [],
   "source": [
    "import pandas as pd\n",
    "import numpy as np\n",
    "import seaborn as sns\n",
    "import matplotlib.pyplot as plt\n",
    "import statsmodels.api as sm\n",
    "import sklearn"
   ]
  },
  {
   "cell_type": "code",
   "execution_count": 115,
   "metadata": {},
   "outputs": [
    {
     "data": {
      "text/plain": [
       "(17981, 75)"
      ]
     },
     "execution_count": 115,
     "metadata": {},
     "output_type": "execute_result"
    }
   ],
   "source": [
    "#specify data types\n",
    "#acceleration to volleys have + and - after the numbers, so must be imported as string and then split,\n",
    "#wage and value has characters after the number\n",
    "dtype = {\"Name\":str, \"Age\":int, \"Photo\":str, \"Nationality\":str, \"Flag\":str, \"Overall\":int, \"Potential\":int, \n",
    "         \"Club\":str, \"Club Logo\":str, \"Value\":str, \"Wage\":str, \"Special\":int, \"Acceleration\":str, \"Aggression\":str, \n",
    "         \"Agility\":str, \"Balance\":str, \"Ball control\":str, \"Composure\":str, \"Crossing\":str, \"Curve\":str, \"Dribbling\":str, \n",
    "         \"Finishing\":str, \"Free kick accuracy\":str, \"GK diving\":str, \"GK handling\":str, \"GK kicking\":str, \n",
    "         \"GK positioning\":str, \"GK reflexes\":str, \"Heading accuracy\":str, \"Interceptions\":str, \"Jumping\":str, \n",
    "         \"Long passing\":str, \"Long shots\":str, \"Marking\":str, \"Penalties\":str, \"Positioning\":str, \"Reactions\":str, \n",
    "         \"Short passing\":str, \"Shot power\":str, \"Sliding tackle\":str, \"Sprint speed\":str, \"Stamina\":str, \n",
    "         \"Standing tackle\":str, \"Strength\":str, \"Vision\":str, \"Volleys\":str, \"CAM\":float, \"CB\":float, \"CDM\":float, \"CF\":float, \n",
    "         \"CM\":float, \"ID\":float, \"LAM\":float, \"LB\":float, \"LCB\":float, \"LCM\":float, \"LDM\":float, \"LF\":float, \"LM\":float, \n",
    "         \"LS\":float, \"LW\":float, \"LWB\":float, \"Preferred Positions\":str, \"RAM\":float, \"RB\":float, \"RCB\":float, \"RCM\":float, \n",
    "         \"RDM\":float, \"RF\":float, \"RM\":float, \"RS\":float, \"RW\":float, \"RWB\":float, \"ST\":float}\n",
    "\n",
    "completedata = pd.read_csv(\"./fifa-18-demo-player-dataset/CompleteDataset.csv\", dtype = dtype)\n",
    "completedata.shape"
   ]
  },
  {
   "cell_type": "code",
   "execution_count": 118,
   "metadata": {},
   "outputs": [
    {
     "data": {
      "text/plain": [
       "'€0'"
      ]
     },
     "execution_count": 118,
     "metadata": {},
     "output_type": "execute_result"
    }
   ],
   "source": [
    "# completedata[completedata['Value'] == 0]\n",
    "completedata['Value'].min()"
   ]
  },
  {
   "cell_type": "code",
   "execution_count": 112,
   "metadata": {},
   "outputs": [
    {
     "data": {
      "text/plain": [
       "0    955000000.0\n",
       "1    105000000.0\n",
       "2    123000000.0\n",
       "3     97000000.0\n",
       "4     61000000.0\n",
       "Name: Value, dtype: float64"
      ]
     },
     "execution_count": 112,
     "metadata": {},
     "output_type": "execute_result"
    }
   ],
   "source": [
    "#split str on + and _\n",
    "strvalues = [\"Acceleration\", \"Aggression\", \n",
    "         \"Agility\", \"Balance\", \"Ball control\", \"Composure\", \"Crossing\", \"Curve\", \"Dribbling\", \n",
    "         \"Finishing\", \"Free kick accuracy\", \"GK diving\", \"GK handling\", \"GK kicking\", \n",
    "         \"GK positioning\", \"GK reflexes\", \"Heading accuracy\", \"Interceptions\", \"Jumping\", \n",
    "         \"Long passing\", \"Long shots\", \"Marking\", \"Penalties\", \"Positioning\", \"Reactions\", \n",
    "         \"Short passing\", \"Shot power\", \"Sliding tackle\", \"Sprint speed\", \"Stamina\", \n",
    "         \"Standing tackle\", \"Strength\", \"Vision\", \"Volleys\"]\n",
    "\n",
    "#drop euros and change K and M to zeros for value and wage categories\n",
    "def toNumberCurrency(column):\n",
    "    column = column.map(lambda x: x.replace(\"€\",\"\"))\n",
    "    column = column.map(lambda x: x.replace(\".\",\"\"))\n",
    "    column = column.map(lambda x: x.replace(\"K\",\"000\"))\n",
    "    column = column.map(lambda x: x.replace(\"M\",\"000000\"))\n",
    "    return column.astype('float')\n",
    "\n",
    "completedata.Wage = toNumberCurrency(completedata[\"Wage\"])\n",
    "completedata.Wage.head()\n",
    "\n",
    "completedata.Value = toNumberCurrency(completedata[\"Value\"])\n",
    "completedata.Value.head()"
   ]
  },
  {
   "cell_type": "code",
   "execution_count": 48,
   "metadata": {},
   "outputs": [
    {
     "data": {
      "text/plain": [
       "0.0"
      ]
     },
     "execution_count": 48,
     "metadata": {},
     "output_type": "execute_result"
    }
   ],
   "source": [
    "completedata[\"Value\"].min()"
   ]
  },
  {
   "cell_type": "code",
   "execution_count": 49,
   "metadata": {},
   "outputs": [
    {
     "data": {
      "text/plain": [
       "0.0"
      ]
     },
     "execution_count": 49,
     "metadata": {},
     "output_type": "execute_result"
    }
   ],
   "source": [
    "completedata[\"Wage\"].min()"
   ]
  },
  {
   "cell_type": "code",
   "execution_count": 98,
   "metadata": {},
   "outputs": [
    {
     "data": {
      "text/plain": [
       "0"
      ]
     },
     "execution_count": 98,
     "metadata": {},
     "output_type": "execute_result"
    }
   ],
   "source": [
    "completedata = completedata[completedata['Value'] != 0]\n",
    "completedata = completedata.sort_values('Value', ascending=True)\n",
    "ten = completedata[completedata['Value'] == 10000]\n",
    "len(ten)"
   ]
  },
  {
   "cell_type": "code",
   "execution_count": 108,
   "metadata": {},
   "outputs": [
    {
     "data": {
      "text/plain": [
       "17712"
      ]
     },
     "execution_count": 108,
     "metadata": {},
     "output_type": "execute_result"
    }
   ],
   "source": [
    "len(completedata[\"Value\"])"
   ]
  },
  {
   "cell_type": "code",
   "execution_count": null,
   "metadata": {},
   "outputs": [],
   "source": [
    "#select smaller data set\n",
    "sampleData = completedata[['Wage', 'Value', 'Potential', 'Overall', 'Aggression', 'Free kick accuracy']]\n",
    "\n",
    "#examine null values\n"
   ]
  },
  {
   "cell_type": "code",
   "execution_count": null,
   "metadata": {},
   "outputs": [],
   "source": [
    "#histograms and scatterplots\n",
    "#min, max, average"
   ]
  },
  {
   "cell_type": "code",
   "execution_count": null,
   "metadata": {},
   "outputs": [],
   "source": [
    "#remove outliers and missing values if needed"
   ]
  },
  {
   "cell_type": "code",
   "execution_count": null,
   "metadata": {},
   "outputs": [],
   "source": [
    "#standardise variables"
   ]
  },
  {
   "cell_type": "code",
   "execution_count": null,
   "metadata": {},
   "outputs": [],
   "source": [
    "#multiple regression\n",
    "# define the data/predictors as the pre-set feature names  \n",
    "#df = pd.DataFrame(data.data, columns=data.feature_names)\n",
    "\n",
    "# Put the target (housing value -- MEDV) in another DataFrame\n",
    "#target = pd.DataFrame(data.target, columns=[\"MEDV\"])\n",
    "\n",
    "#specify variables\n",
    "#X = df\n",
    "#y = target[“MEDV”]\n",
    "\n",
    "#fit model\n",
    "#lm = linear_model.LinearRegression()\n",
    "#model = lm.fit(X,y)\n",
    "\n",
    "#get predicted y values\n",
    "#predictions = lm.predict(X)\n",
    "\n",
    "#get R squared\n",
    "#lm.score(X,y)\n",
    "\n",
    "\n",
    "#see regression coefficients\n",
    "#lm.coef_\n",
    "#lm.intercept_"
   ]
  },
  {
   "cell_type": "code",
   "execution_count": null,
   "metadata": {},
   "outputs": [],
   "source": [
    "#get regression diagnostics\n",
    "\n",
    "#E.g. get average difference between observed Y and predicted Y\n",
    "#get scatterplot of predicted Y vs residuals"
   ]
  }
 ],
 "metadata": {
  "kernelspec": {
   "display_name": "Python 3",
   "language": "python",
   "name": "python3"
  },
  "language_info": {
   "codemirror_mode": {
    "name": "ipython",
    "version": 3
   },
   "file_extension": ".py",
   "mimetype": "text/x-python",
   "name": "python",
   "nbconvert_exporter": "python",
   "pygments_lexer": "ipython3",
   "version": "3.6.4"
  }
 },
 "nbformat": 4,
 "nbformat_minor": 2
}
